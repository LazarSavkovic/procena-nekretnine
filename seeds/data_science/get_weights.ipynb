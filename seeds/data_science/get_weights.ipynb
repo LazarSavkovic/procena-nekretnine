{
 "cells": [
  {
   "cell_type": "markdown",
   "id": "46429698",
   "metadata": {},
   "source": [
    "# Getting the weights for the regressor"
   ]
  },
  {
   "cell_type": "code",
   "execution_count": 1,
   "id": "748f7533",
   "metadata": {},
   "outputs": [],
   "source": [
    "import pandas as pd\n",
    "import numpy as np\n",
    "import json\n",
    "# import matplotlib.pyplot as plt\n",
    "from sklearn.model_selection import train_test_split"
   ]
  },
  {
   "cell_type": "markdown",
   "id": "1037c810",
   "metadata": {},
   "source": [
    "### importing data"
   ]
  },
  {
   "cell_type": "code",
   "execution_count": 2,
   "id": "60b4d692",
   "metadata": {},
   "outputs": [
    {
     "name": "stdout",
     "output_type": "stream",
     "text": [
      "Type: <class 'list'>\n"
     ]
    }
   ],
   "source": [
    "# Opening JSON file\n",
    "with open('apartments.json') as json_file:\n",
    "    apartments = json.load(json_file)\n",
    " \n",
    "    # Print the type of data variable\n",
    "    print(\"Type:\", type(apartments))"
   ]
  },
  {
   "cell_type": "markdown",
   "id": "49b98614",
   "metadata": {},
   "source": [
    "### making the DataFrame"
   ]
  },
  {
   "cell_type": "code",
   "execution_count": 3,
   "id": "d82c5690",
   "metadata": {},
   "outputs": [],
   "source": [
    "apts = []\n",
    "for apartment in apartments:\n",
    "    apt = {}\n",
    "    apt[\"lat\"] = apartment[\"lat\"]\n",
    "    apt[\"long\"] = apartment[\"long\"]\n",
    "    apt[\"date\"] = apartment[\"date\"]\n",
    "    apt[\"sq_mt\"] = apartment[\"sq_mt\"]\n",
    "    apt[\"rooms\"] = apartment[\"rooms\"]\n",
    "    apt[\"price\"] = apartment[\"price\"]\n",
    "    apts.append(apt)"
   ]
  },
  {
   "cell_type": "code",
   "execution_count": 4,
   "id": "df940120",
   "metadata": {},
   "outputs": [],
   "source": [
    "apt_df =pd.DataFrame(apts)"
   ]
  },
  {
   "cell_type": "code",
   "execution_count": 5,
   "id": "4bf98423",
   "metadata": {},
   "outputs": [
    {
     "data": {
      "text/html": [
       "<div>\n",
       "<style scoped>\n",
       "    .dataframe tbody tr th:only-of-type {\n",
       "        vertical-align: middle;\n",
       "    }\n",
       "\n",
       "    .dataframe tbody tr th {\n",
       "        vertical-align: top;\n",
       "    }\n",
       "\n",
       "    .dataframe thead th {\n",
       "        text-align: right;\n",
       "    }\n",
       "</style>\n",
       "<table border=\"1\" class=\"dataframe\">\n",
       "  <thead>\n",
       "    <tr style=\"text-align: right;\">\n",
       "      <th></th>\n",
       "      <th>lat</th>\n",
       "      <th>long</th>\n",
       "      <th>date</th>\n",
       "      <th>sq_mt</th>\n",
       "      <th>rooms</th>\n",
       "      <th>price</th>\n",
       "    </tr>\n",
       "  </thead>\n",
       "  <tbody>\n",
       "    <tr>\n",
       "      <th>0</th>\n",
       "      <td>44.770200</td>\n",
       "      <td>20.419700</td>\n",
       "      <td>29.08.2022.</td>\n",
       "      <td>134.00</td>\n",
       "      <td>4.5</td>\n",
       "      <td>339000</td>\n",
       "    </tr>\n",
       "    <tr>\n",
       "      <th>1</th>\n",
       "      <td>44.798600</td>\n",
       "      <td>20.472300</td>\n",
       "      <td>29.08.2022.</td>\n",
       "      <td>60.00</td>\n",
       "      <td>2.0</td>\n",
       "      <td>169000</td>\n",
       "    </tr>\n",
       "    <tr>\n",
       "      <th>2</th>\n",
       "      <td>44.793400</td>\n",
       "      <td>20.492800</td>\n",
       "      <td>29.08.2022.</td>\n",
       "      <td>110.00</td>\n",
       "      <td>3.5</td>\n",
       "      <td>239000</td>\n",
       "    </tr>\n",
       "    <tr>\n",
       "      <th>3</th>\n",
       "      <td>44.843383</td>\n",
       "      <td>20.484003</td>\n",
       "      <td>29.08.2022.</td>\n",
       "      <td>49.00</td>\n",
       "      <td>2.5</td>\n",
       "      <td>67800</td>\n",
       "    </tr>\n",
       "    <tr>\n",
       "      <th>4</th>\n",
       "      <td>44.755283</td>\n",
       "      <td>20.453176</td>\n",
       "      <td>29.08.2022.</td>\n",
       "      <td>40.00</td>\n",
       "      <td>1.5</td>\n",
       "      <td>73000</td>\n",
       "    </tr>\n",
       "    <tr>\n",
       "      <th>...</th>\n",
       "      <td>...</td>\n",
       "      <td>...</td>\n",
       "      <td>...</td>\n",
       "      <td>...</td>\n",
       "      <td>...</td>\n",
       "      <td>...</td>\n",
       "    </tr>\n",
       "    <tr>\n",
       "      <th>469</th>\n",
       "      <td>44.776801</td>\n",
       "      <td>20.532719</td>\n",
       "      <td>01.08.2022.</td>\n",
       "      <td>51.82</td>\n",
       "      <td>3.0</td>\n",
       "      <td>101049</td>\n",
       "    </tr>\n",
       "    <tr>\n",
       "      <th>470</th>\n",
       "      <td>44.805053</td>\n",
       "      <td>20.474391</td>\n",
       "      <td>01.08.2022.</td>\n",
       "      <td>66.00</td>\n",
       "      <td>3.0</td>\n",
       "      <td>208000</td>\n",
       "    </tr>\n",
       "    <tr>\n",
       "      <th>471</th>\n",
       "      <td>44.792964</td>\n",
       "      <td>20.492485</td>\n",
       "      <td>31.07.2022.</td>\n",
       "      <td>42.00</td>\n",
       "      <td>1.0</td>\n",
       "      <td>130000</td>\n",
       "    </tr>\n",
       "    <tr>\n",
       "      <th>472</th>\n",
       "      <td>44.795135</td>\n",
       "      <td>20.437267</td>\n",
       "      <td>31.07.2022.</td>\n",
       "      <td>110.00</td>\n",
       "      <td>5.0</td>\n",
       "      <td>140000</td>\n",
       "    </tr>\n",
       "    <tr>\n",
       "      <th>473</th>\n",
       "      <td>44.818260</td>\n",
       "      <td>20.399930</td>\n",
       "      <td>31.07.2022.</td>\n",
       "      <td>66.00</td>\n",
       "      <td>2.5</td>\n",
       "      <td>160000</td>\n",
       "    </tr>\n",
       "  </tbody>\n",
       "</table>\n",
       "<p>474 rows × 6 columns</p>\n",
       "</div>"
      ],
      "text/plain": [
       "           lat       long         date   sq_mt  rooms   price\n",
       "0    44.770200  20.419700  29.08.2022.  134.00    4.5  339000\n",
       "1    44.798600  20.472300  29.08.2022.   60.00    2.0  169000\n",
       "2    44.793400  20.492800  29.08.2022.  110.00    3.5  239000\n",
       "3    44.843383  20.484003  29.08.2022.   49.00    2.5   67800\n",
       "4    44.755283  20.453176  29.08.2022.   40.00    1.5   73000\n",
       "..         ...        ...          ...     ...    ...     ...\n",
       "469  44.776801  20.532719  01.08.2022.   51.82    3.0  101049\n",
       "470  44.805053  20.474391  01.08.2022.   66.00    3.0  208000\n",
       "471  44.792964  20.492485  31.07.2022.   42.00    1.0  130000\n",
       "472  44.795135  20.437267  31.07.2022.  110.00    5.0  140000\n",
       "473  44.818260  20.399930  31.07.2022.   66.00    2.5  160000\n",
       "\n",
       "[474 rows x 6 columns]"
      ]
     },
     "execution_count": 5,
     "metadata": {},
     "output_type": "execute_result"
    }
   ],
   "source": [
    "apt_df"
   ]
  },
  {
   "cell_type": "code",
   "execution_count": 6,
   "id": "d7fbdd08",
   "metadata": {},
   "outputs": [],
   "source": [
    "# plt.plot(apt_df.long, apt_df.lat, \".\")"
   ]
  },
  {
   "cell_type": "markdown",
   "id": "f7c20277",
   "metadata": {},
   "source": [
    "### Preparing data for ML"
   ]
  },
  {
   "cell_type": "code",
   "execution_count": 7,
   "id": "8e29ea72",
   "metadata": {},
   "outputs": [],
   "source": [
    "X = apt_df.drop([\"price\", \"date\"], axis=1).to_numpy()\n",
    "y = apt_df.price.to_numpy()"
   ]
  },
  {
   "cell_type": "markdown",
   "id": "c5ce09c9",
   "metadata": {},
   "source": [
    "#### Linear regressor"
   ]
  },
  {
   "cell_type": "code",
   "execution_count": 8,
   "id": "1a0653e5",
   "metadata": {},
   "outputs": [
    {
     "name": "stdout",
     "output_type": "stream",
     "text": [
      "linear model coeff (w): [601494.25997073 138160.25398513   5720.21981834 -77965.5288013 ]\n",
      "linear model intercept (b): -29791316.084\n",
      "R-squared score (training): 0.737\n",
      "R-squared score (test): 0.472\n"
     ]
    }
   ],
   "source": [
    "from sklearn.linear_model import LinearRegression\n",
    "\n",
    "X_train, X_test, y_train, y_test = train_test_split(X, y,\n",
    "                                                   random_state = 0)\n",
    "linreg = LinearRegression().fit(X_train, y_train)\n",
    "\n",
    "print('linear model coeff (w): {}'\n",
    "     .format(linreg.coef_))\n",
    "print('linear model intercept (b): {:.3f}'\n",
    "     .format(linreg.intercept_))\n",
    "print('R-squared score (training): {:.3f}'\n",
    "     .format(linreg.score(X_train, y_train)))\n",
    "print('R-squared score (test): {:.3f}'\n",
    "     .format(linreg.score(X_test, y_test)))"
   ]
  },
  {
   "cell_type": "markdown",
   "id": "765b16fb",
   "metadata": {},
   "source": [
    "#### Linear regressor with ridge and data scaling"
   ]
  },
  {
   "cell_type": "code",
   "execution_count": 9,
   "id": "4d871e14",
   "metadata": {},
   "outputs": [
    {
     "name": "stdout",
     "output_type": "stream",
     "text": [
      "Crime dataset\n",
      "ridge regression linear model intercept: 63749.612928978866\n",
      "ridge regression linear model coeff:\n",
      "[ 29926.31640935  -9006.59321678 254823.17930099 218096.23811708]\n",
      "R-squared score (training): 0.293\n",
      "R-squared score (test): 0.344\n",
      "Number of non-zero features: 4\n"
     ]
    }
   ],
   "source": [
    "from sklearn.preprocessing import MinMaxScaler\n",
    "scaler = MinMaxScaler()\n",
    "\n",
    "from sklearn.linear_model import Ridge\n",
    "X_train, X_test, y_train, y_test = train_test_split(X, y,\n",
    "                                                   random_state = 0)\n",
    "\n",
    "X_train_scaled = scaler.fit_transform(X_train)\n",
    "X_test_scaled = scaler.transform(X_test)\n",
    "\n",
    "linridge = Ridge(alpha=20.0).fit(X_train_scaled, y_train)\n",
    "\n",
    "print('Crime dataset')\n",
    "print('ridge regression linear model intercept: {}'\n",
    "     .format(linridge.intercept_))\n",
    "print('ridge regression linear model coeff:\\n{}'\n",
    "     .format(linridge.coef_))\n",
    "print('R-squared score (training): {:.3f}'\n",
    "     .format(linridge.score(X_train_scaled, y_train)))\n",
    "print('R-squared score (test): {:.3f}'\n",
    "     .format(linridge.score(X_test_scaled, y_test)))\n",
    "print('Number of non-zero features: {}'\n",
    "     .format(np.sum(linridge.coef_ != 0)))"
   ]
  },
  {
   "cell_type": "markdown",
   "id": "65f76068",
   "metadata": {},
   "source": [
    "#### finding the best alpha parameter"
   ]
  },
  {
   "cell_type": "code",
   "execution_count": 10,
   "id": "71e51feb",
   "metadata": {
    "scrolled": true
   },
   "outputs": [
    {
     "name": "stdout",
     "output_type": "stream",
     "text": [
      "Ridge regression: effect of alpha regularization parameter\n",
      "\n",
      "Alpha = 0.00\n",
      "num abs(coeff) > 1.0: 4, r-squared training: 0.74, r-squared test: 0.47\n",
      "\n",
      "Alpha = 1.00\n",
      "num abs(coeff) > 1.0: 4, r-squared training: 0.66, r-squared test: 0.56\n",
      "\n",
      "Alpha = 10.00\n",
      "num abs(coeff) > 1.0: 4, r-squared training: 0.38, r-squared test: 0.41\n",
      "\n",
      "Alpha = 20.00\n",
      "num abs(coeff) > 1.0: 4, r-squared training: 0.29, r-squared test: 0.34\n",
      "\n",
      "Alpha = 50.00\n",
      "num abs(coeff) > 1.0: 4, r-squared training: 0.19, r-squared test: 0.23\n",
      "\n",
      "Alpha = 100.00\n",
      "num abs(coeff) > 1.0: 4, r-squared training: 0.12, r-squared test: 0.14\n",
      "\n",
      "Alpha = 1000.00\n",
      "num abs(coeff) > 1.0: 4, r-squared training: 0.01, r-squared test: 0.00\n",
      "\n"
     ]
    },
    {
     "data": {
      "text/plain": [
       "array([  689.58641122,  -202.49696275,  7421.00072051, 10360.88115458])"
      ]
     },
     "execution_count": 10,
     "metadata": {},
     "output_type": "execute_result"
    }
   ],
   "source": [
    "print('Ridge regression: effect of alpha regularization parameter\\n')\n",
    "for this_alpha in [0, 1, 10, 20, 50, 100, 1000]:\n",
    "    linridge = Ridge(alpha = this_alpha).fit(X_train_scaled, y_train)\n",
    "    r2_train = linridge.score(X_train_scaled, y_train)\n",
    "    r2_test = linridge.score(X_test_scaled, y_test)\n",
    "    num_coeff_bigger = np.sum(abs(linridge.coef_) > 1.0)\n",
    "    print('Alpha = {:.2f}\\nnum abs(coeff) > 1.0: {}, \\\n",
    "r-squared training: {:.2f}, r-squared test: {:.2f}\\n'\n",
    "         .format(this_alpha, num_coeff_bigger, r2_train, r2_test))\n",
    "linridge.coef_"
   ]
  },
  {
   "cell_type": "markdown",
   "id": "42e60c12",
   "metadata": {},
   "source": [
    "#### Using the best alpha parameter"
   ]
  },
  {
   "cell_type": "code",
   "execution_count": 11,
   "id": "1eda2fca",
   "metadata": {},
   "outputs": [],
   "source": [
    "linridge = Ridge(alpha = 1).fit(X_train_scaled, y_train)\n",
    "r2_train = linridge.score(X_train_scaled, y_train)\n",
    "r2_test = linridge.score(X_test_scaled, y_test)\n",
    "predictions = linridge.predict(X_test_scaled)"
   ]
  },
  {
   "cell_type": "code",
   "execution_count": 12,
   "id": "f90d36e9",
   "metadata": {},
   "outputs": [],
   "source": [
    "new_df = pd.DataFrame()"
   ]
  },
  {
   "cell_type": "code",
   "execution_count": 13,
   "id": "101cc14c",
   "metadata": {},
   "outputs": [],
   "source": [
    "new_df[\"predictions\"] = predictions\n",
    "new_df[\"y_test\"] = y_test"
   ]
  },
  {
   "cell_type": "code",
   "execution_count": 14,
   "id": "e682882f",
   "metadata": {},
   "outputs": [
    {
     "data": {
      "text/html": [
       "<div>\n",
       "<style scoped>\n",
       "    .dataframe tbody tr th:only-of-type {\n",
       "        vertical-align: middle;\n",
       "    }\n",
       "\n",
       "    .dataframe tbody tr th {\n",
       "        vertical-align: top;\n",
       "    }\n",
       "\n",
       "    .dataframe thead th {\n",
       "        text-align: right;\n",
       "    }\n",
       "</style>\n",
       "<table border=\"1\" class=\"dataframe\">\n",
       "  <thead>\n",
       "    <tr style=\"text-align: right;\">\n",
       "      <th></th>\n",
       "      <th>predictions</th>\n",
       "      <th>y_test</th>\n",
       "    </tr>\n",
       "  </thead>\n",
       "  <tbody>\n",
       "    <tr>\n",
       "      <th>0</th>\n",
       "      <td>301565.913992</td>\n",
       "      <td>249000</td>\n",
       "    </tr>\n",
       "    <tr>\n",
       "      <th>1</th>\n",
       "      <td>254082.855715</td>\n",
       "      <td>175000</td>\n",
       "    </tr>\n",
       "    <tr>\n",
       "      <th>2</th>\n",
       "      <td>125426.905270</td>\n",
       "      <td>250000</td>\n",
       "    </tr>\n",
       "    <tr>\n",
       "      <th>3</th>\n",
       "      <td>39868.694094</td>\n",
       "      <td>88000</td>\n",
       "    </tr>\n",
       "    <tr>\n",
       "      <th>4</th>\n",
       "      <td>219266.662621</td>\n",
       "      <td>305000</td>\n",
       "    </tr>\n",
       "    <tr>\n",
       "      <th>5</th>\n",
       "      <td>98507.335149</td>\n",
       "      <td>45000</td>\n",
       "    </tr>\n",
       "    <tr>\n",
       "      <th>6</th>\n",
       "      <td>88075.338908</td>\n",
       "      <td>125000</td>\n",
       "    </tr>\n",
       "    <tr>\n",
       "      <th>7</th>\n",
       "      <td>319641.890009</td>\n",
       "      <td>350104</td>\n",
       "    </tr>\n",
       "    <tr>\n",
       "      <th>8</th>\n",
       "      <td>150689.416302</td>\n",
       "      <td>149000</td>\n",
       "    </tr>\n",
       "    <tr>\n",
       "      <th>9</th>\n",
       "      <td>113847.432341</td>\n",
       "      <td>120000</td>\n",
       "    </tr>\n",
       "    <tr>\n",
       "      <th>10</th>\n",
       "      <td>274584.470358</td>\n",
       "      <td>239000</td>\n",
       "    </tr>\n",
       "    <tr>\n",
       "      <th>11</th>\n",
       "      <td>154138.126667</td>\n",
       "      <td>235000</td>\n",
       "    </tr>\n",
       "    <tr>\n",
       "      <th>12</th>\n",
       "      <td>167647.877225</td>\n",
       "      <td>190000</td>\n",
       "    </tr>\n",
       "    <tr>\n",
       "      <th>13</th>\n",
       "      <td>280916.265071</td>\n",
       "      <td>215000</td>\n",
       "    </tr>\n",
       "    <tr>\n",
       "      <th>14</th>\n",
       "      <td>264156.194643</td>\n",
       "      <td>263000</td>\n",
       "    </tr>\n",
       "    <tr>\n",
       "      <th>15</th>\n",
       "      <td>324615.746990</td>\n",
       "      <td>390000</td>\n",
       "    </tr>\n",
       "    <tr>\n",
       "      <th>16</th>\n",
       "      <td>435647.317589</td>\n",
       "      <td>560000</td>\n",
       "    </tr>\n",
       "    <tr>\n",
       "      <th>17</th>\n",
       "      <td>231830.234393</td>\n",
       "      <td>240000</td>\n",
       "    </tr>\n",
       "    <tr>\n",
       "      <th>18</th>\n",
       "      <td>353074.766024</td>\n",
       "      <td>315000</td>\n",
       "    </tr>\n",
       "    <tr>\n",
       "      <th>19</th>\n",
       "      <td>341691.582683</td>\n",
       "      <td>348000</td>\n",
       "    </tr>\n",
       "    <tr>\n",
       "      <th>20</th>\n",
       "      <td>330572.495480</td>\n",
       "      <td>370000</td>\n",
       "    </tr>\n",
       "    <tr>\n",
       "      <th>21</th>\n",
       "      <td>99176.351819</td>\n",
       "      <td>72160</td>\n",
       "    </tr>\n",
       "    <tr>\n",
       "      <th>22</th>\n",
       "      <td>151181.372910</td>\n",
       "      <td>276888</td>\n",
       "    </tr>\n",
       "    <tr>\n",
       "      <th>23</th>\n",
       "      <td>277136.491037</td>\n",
       "      <td>215000</td>\n",
       "    </tr>\n",
       "    <tr>\n",
       "      <th>24</th>\n",
       "      <td>294202.139688</td>\n",
       "      <td>313000</td>\n",
       "    </tr>\n",
       "    <tr>\n",
       "      <th>25</th>\n",
       "      <td>139342.316480</td>\n",
       "      <td>110000</td>\n",
       "    </tr>\n",
       "    <tr>\n",
       "      <th>26</th>\n",
       "      <td>290995.308601</td>\n",
       "      <td>400000</td>\n",
       "    </tr>\n",
       "    <tr>\n",
       "      <th>27</th>\n",
       "      <td>199915.418793</td>\n",
       "      <td>225000</td>\n",
       "    </tr>\n",
       "    <tr>\n",
       "      <th>28</th>\n",
       "      <td>110756.411548</td>\n",
       "      <td>115000</td>\n",
       "    </tr>\n",
       "    <tr>\n",
       "      <th>29</th>\n",
       "      <td>299315.601517</td>\n",
       "      <td>225000</td>\n",
       "    </tr>\n",
       "    <tr>\n",
       "      <th>30</th>\n",
       "      <td>155812.245480</td>\n",
       "      <td>139000</td>\n",
       "    </tr>\n",
       "    <tr>\n",
       "      <th>31</th>\n",
       "      <td>281283.658300</td>\n",
       "      <td>170000</td>\n",
       "    </tr>\n",
       "    <tr>\n",
       "      <th>32</th>\n",
       "      <td>520790.635984</td>\n",
       "      <td>640000</td>\n",
       "    </tr>\n",
       "    <tr>\n",
       "      <th>33</th>\n",
       "      <td>264043.686074</td>\n",
       "      <td>189000</td>\n",
       "    </tr>\n",
       "    <tr>\n",
       "      <th>34</th>\n",
       "      <td>53584.052397</td>\n",
       "      <td>94000</td>\n",
       "    </tr>\n",
       "    <tr>\n",
       "      <th>35</th>\n",
       "      <td>162769.754828</td>\n",
       "      <td>249900</td>\n",
       "    </tr>\n",
       "    <tr>\n",
       "      <th>36</th>\n",
       "      <td>70621.547732</td>\n",
       "      <td>74500</td>\n",
       "    </tr>\n",
       "    <tr>\n",
       "      <th>37</th>\n",
       "      <td>287623.667035</td>\n",
       "      <td>303000</td>\n",
       "    </tr>\n",
       "    <tr>\n",
       "      <th>38</th>\n",
       "      <td>418622.910948</td>\n",
       "      <td>320000</td>\n",
       "    </tr>\n",
       "    <tr>\n",
       "      <th>39</th>\n",
       "      <td>117566.979498</td>\n",
       "      <td>135000</td>\n",
       "    </tr>\n",
       "    <tr>\n",
       "      <th>40</th>\n",
       "      <td>232176.322341</td>\n",
       "      <td>377888</td>\n",
       "    </tr>\n",
       "    <tr>\n",
       "      <th>41</th>\n",
       "      <td>158995.153162</td>\n",
       "      <td>169000</td>\n",
       "    </tr>\n",
       "    <tr>\n",
       "      <th>42</th>\n",
       "      <td>190280.180725</td>\n",
       "      <td>240000</td>\n",
       "    </tr>\n",
       "    <tr>\n",
       "      <th>43</th>\n",
       "      <td>129093.993956</td>\n",
       "      <td>155000</td>\n",
       "    </tr>\n",
       "    <tr>\n",
       "      <th>44</th>\n",
       "      <td>311807.554008</td>\n",
       "      <td>199000</td>\n",
       "    </tr>\n",
       "    <tr>\n",
       "      <th>45</th>\n",
       "      <td>221395.648671</td>\n",
       "      <td>179999</td>\n",
       "    </tr>\n",
       "    <tr>\n",
       "      <th>46</th>\n",
       "      <td>489603.257025</td>\n",
       "      <td>339000</td>\n",
       "    </tr>\n",
       "    <tr>\n",
       "      <th>47</th>\n",
       "      <td>326234.546027</td>\n",
       "      <td>455000</td>\n",
       "    </tr>\n",
       "    <tr>\n",
       "      <th>48</th>\n",
       "      <td>67523.394555</td>\n",
       "      <td>93000</td>\n",
       "    </tr>\n",
       "    <tr>\n",
       "      <th>49</th>\n",
       "      <td>80371.232268</td>\n",
       "      <td>122498</td>\n",
       "    </tr>\n",
       "  </tbody>\n",
       "</table>\n",
       "</div>"
      ],
      "text/plain": [
       "      predictions  y_test\n",
       "0   301565.913992  249000\n",
       "1   254082.855715  175000\n",
       "2   125426.905270  250000\n",
       "3    39868.694094   88000\n",
       "4   219266.662621  305000\n",
       "5    98507.335149   45000\n",
       "6    88075.338908  125000\n",
       "7   319641.890009  350104\n",
       "8   150689.416302  149000\n",
       "9   113847.432341  120000\n",
       "10  274584.470358  239000\n",
       "11  154138.126667  235000\n",
       "12  167647.877225  190000\n",
       "13  280916.265071  215000\n",
       "14  264156.194643  263000\n",
       "15  324615.746990  390000\n",
       "16  435647.317589  560000\n",
       "17  231830.234393  240000\n",
       "18  353074.766024  315000\n",
       "19  341691.582683  348000\n",
       "20  330572.495480  370000\n",
       "21   99176.351819   72160\n",
       "22  151181.372910  276888\n",
       "23  277136.491037  215000\n",
       "24  294202.139688  313000\n",
       "25  139342.316480  110000\n",
       "26  290995.308601  400000\n",
       "27  199915.418793  225000\n",
       "28  110756.411548  115000\n",
       "29  299315.601517  225000\n",
       "30  155812.245480  139000\n",
       "31  281283.658300  170000\n",
       "32  520790.635984  640000\n",
       "33  264043.686074  189000\n",
       "34   53584.052397   94000\n",
       "35  162769.754828  249900\n",
       "36   70621.547732   74500\n",
       "37  287623.667035  303000\n",
       "38  418622.910948  320000\n",
       "39  117566.979498  135000\n",
       "40  232176.322341  377888\n",
       "41  158995.153162  169000\n",
       "42  190280.180725  240000\n",
       "43  129093.993956  155000\n",
       "44  311807.554008  199000\n",
       "45  221395.648671  179999\n",
       "46  489603.257025  339000\n",
       "47  326234.546027  455000\n",
       "48   67523.394555   93000\n",
       "49   80371.232268  122498"
      ]
     },
     "execution_count": 14,
     "metadata": {},
     "output_type": "execute_result"
    }
   ],
   "source": [
    "new_df.head(50)"
   ]
  },
  {
   "cell_type": "code",
   "execution_count": 15,
   "id": "0bc7c1dd",
   "metadata": {
    "scrolled": true
   },
   "outputs": [
    {
     "data": {
      "text/plain": [
       "array([ 189080.88062186,   11720.96837901, 1605422.31442403,\n",
       "         -9944.09381746])"
      ]
     },
     "execution_count": 15,
     "metadata": {},
     "output_type": "execute_result"
    }
   ],
   "source": [
    "X_train_scaled\n",
    "linridge.coef_"
   ]
  },
  {
   "cell_type": "code",
   "execution_count": 16,
   "id": "896338b7",
   "metadata": {},
   "outputs": [
    {
     "data": {
      "text/plain": [
       "-190078.00275754"
      ]
     },
     "execution_count": 16,
     "metadata": {},
     "output_type": "execute_result"
    }
   ],
   "source": [
    "linridge.intercept_"
   ]
  },
  {
   "cell_type": "code",
   "execution_count": 17,
   "id": "263e1894",
   "metadata": {
    "scrolled": true
   },
   "outputs": [
    {
     "data": {
      "text/plain": [
       "array([0.68089477, 0.53179326, 0.2262931 , 0.66666667])"
      ]
     },
     "execution_count": 17,
     "metadata": {},
     "output_type": "execute_result"
    }
   ],
   "source": [
    "X_test_scaled[0]"
   ]
  },
  {
   "cell_type": "code",
   "execution_count": 18,
   "id": "4f2cdfe8",
   "metadata": {},
   "outputs": [
    {
     "data": {
      "text/plain": [
       "249000"
      ]
     },
     "execution_count": 18,
     "metadata": {},
     "output_type": "execute_result"
    }
   ],
   "source": [
    "y_test[0]"
   ]
  },
  {
   "cell_type": "code",
   "execution_count": 19,
   "id": "4b0bb7ee",
   "metadata": {},
   "outputs": [
    {
     "name": "stdout",
     "output_type": "stream",
     "text": [
      "0.6808947700063044\n",
      "189080.88062185762\n",
      "==================\n",
      "128744.18272360924\n",
      "******************\n",
      "0.5317932637487885\n",
      "11720.968379006605\n",
      "==================\n",
      "6233.13202856827\n",
      "******************\n",
      "0.22629310344827586\n",
      "1605422.3144240326\n",
      "==================\n",
      "363295.99787612807\n",
      "******************\n",
      "0.6666666666666665\n",
      "-9944.093817455787\n",
      "==================\n",
      "-6629.395878303856\n",
      "******************\n",
      "[128744.18272360924, 6233.13202856827, 363295.99787612807, -6629.395878303856]\n"
     ]
    }
   ],
   "source": [
    "sum1 = []\n",
    "for i in range(4):\n",
    "\n",
    "    print(X_test_scaled[0][i])\n",
    "    print(linridge.coef_[i])\n",
    "    print(\"==================\")\n",
    "    mul_res = X_test_scaled[0][i]*linridge.coef_[i]\n",
    "    print(mul_res)\n",
    "    print(\"******************\")\n",
    "    sum1.append(mul_res)\n",
    "print(sum1)"
   ]
  },
  {
   "cell_type": "code",
   "execution_count": 21,
   "id": "504265fd",
   "metadata": {},
   "outputs": [
    {
     "data": {
      "text/plain": [
       "301565.91399246175"
      ]
     },
     "execution_count": 21,
     "metadata": {},
     "output_type": "execute_result"
    }
   ],
   "source": [
    "sum(sum1)+linridge.intercept_"
   ]
  },
  {
   "cell_type": "markdown",
   "id": "ccaef80a",
   "metadata": {},
   "source": [
    "### Exporting the coeffs and intercept"
   ]
  },
  {
   "cell_type": "code",
   "execution_count": 22,
   "id": "21f826a7",
   "metadata": {},
   "outputs": [],
   "source": [
    "weights = {}\n",
    "weights[\"intercept\"] = linridge.intercept_"
   ]
  },
  {
   "cell_type": "code",
   "execution_count": 24,
   "id": "adb2c6d2",
   "metadata": {},
   "outputs": [],
   "source": [
    "weights[\"coefficients\"] = list(linridge.coef_)"
   ]
  },
  {
   "cell_type": "code",
   "execution_count": 26,
   "id": "3d2aea7c",
   "metadata": {},
   "outputs": [],
   "source": [
    "with open('weights.json', 'w') as file:\n",
    "    json.dump(weights, file)"
   ]
  }
 ],
 "metadata": {
  "kernelspec": {
   "display_name": "Python 3 (ipykernel)",
   "language": "python",
   "name": "python3"
  },
  "language_info": {
   "codemirror_mode": {
    "name": "ipython",
    "version": 3
   },
   "file_extension": ".py",
   "mimetype": "text/x-python",
   "name": "python",
   "nbconvert_exporter": "python",
   "pygments_lexer": "ipython3",
   "version": "3.9.12"
  }
 },
 "nbformat": 4,
 "nbformat_minor": 5
}
